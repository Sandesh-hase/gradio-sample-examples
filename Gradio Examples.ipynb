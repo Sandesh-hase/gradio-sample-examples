{
 "cells": [
  {
   "cell_type": "markdown",
   "id": "09eb5ef2",
   "metadata": {},
   "source": [
    "#### Gradio Comparing Transfer Learning Models"
   ]
  },
  {
   "cell_type": "code",
   "execution_count": 1,
   "id": "bee4dba3",
   "metadata": {},
   "outputs": [
    {
     "name": "stdout",
     "output_type": "stream",
     "text": [
      "Requirement already satisfied: gradio in c:\\users\\sandesh\\anaconda3\\lib\\site-packages (3.9)\n",
      "Requirement already satisfied: numpy in c:\\users\\sandesh\\anaconda3\\lib\\site-packages (from gradio) (1.22.4)\n",
      "Requirement already satisfied: orjson in c:\\users\\sandesh\\anaconda3\\lib\\site-packages (from gradio) (3.8.1)\n",
      "Requirement already satisfied: pycryptodome in c:\\users\\sandesh\\anaconda3\\lib\\site-packages (from gradio) (3.15.0)\n",
      "Requirement already satisfied: paramiko in c:\\users\\sandesh\\anaconda3\\lib\\site-packages (from gradio) (2.7.2)\n",
      "Requirement already satisfied: pandas in c:\\users\\sandesh\\anaconda3\\lib\\site-packages (from gradio) (1.3.4)\n",
      "Requirement already satisfied: pyyaml in c:\\users\\sandesh\\anaconda3\\lib\\site-packages (from gradio) (6.0)\n",
      "Requirement already satisfied: pydub in c:\\users\\sandesh\\anaconda3\\lib\\site-packages (from gradio) (0.25.1)\n",
      "Requirement already satisfied: fsspec in c:\\users\\sandesh\\anaconda3\\lib\\site-packages (from gradio) (2021.10.1)\n",
      "Requirement already satisfied: jinja2 in c:\\users\\sandesh\\appdata\\roaming\\python\\python39\\site-packages (from gradio) (3.1.2)\n",
      "Requirement already satisfied: httpx in c:\\users\\sandesh\\anaconda3\\lib\\site-packages (from gradio) (0.23.0)\n",
      "Requirement already satisfied: aiohttp in c:\\users\\sandesh\\anaconda3\\lib\\site-packages (from gradio) (3.8.3)\n",
      "Requirement already satisfied: markdown-it-py[linkify,plugins] in c:\\users\\sandesh\\anaconda3\\lib\\site-packages (from gradio) (2.1.0)\n",
      "Requirement already satisfied: matplotlib in c:\\users\\sandesh\\anaconda3\\lib\\site-packages (from gradio) (3.4.3)\n",
      "Requirement already satisfied: python-multipart in c:\\users\\sandesh\\anaconda3\\lib\\site-packages (from gradio) (0.0.5)\n",
      "Requirement already satisfied: pillow in c:\\users\\sandesh\\anaconda3\\lib\\site-packages (from gradio) (8.4.0)\n",
      "Requirement already satisfied: websockets in c:\\users\\sandesh\\anaconda3\\lib\\site-packages (from gradio) (10.3)\n",
      "Requirement already satisfied: ffmpy in c:\\users\\sandesh\\anaconda3\\lib\\site-packages (from gradio) (0.3.0)\n",
      "Requirement already satisfied: uvicorn in c:\\users\\sandesh\\anaconda3\\lib\\site-packages (from gradio) (0.19.0)\n",
      "Requirement already satisfied: fastapi in c:\\users\\sandesh\\anaconda3\\lib\\site-packages (from gradio) (0.86.0)\n",
      "Requirement already satisfied: pydantic in c:\\users\\sandesh\\anaconda3\\lib\\site-packages (from gradio) (1.9.1)\n",
      "Requirement already satisfied: requests in c:\\users\\sandesh\\anaconda3\\lib\\site-packages (from gradio) (2.26.0)\n",
      "Requirement already satisfied: h11<0.13,>=0.11 in c:\\users\\sandesh\\anaconda3\\lib\\site-packages (from gradio) (0.12.0)\n",
      "Requirement already satisfied: yarl<2.0,>=1.0 in c:\\users\\sandesh\\anaconda3\\lib\\site-packages (from aiohttp->gradio) (1.8.1)\n",
      "Requirement already satisfied: multidict<7.0,>=4.5 in c:\\users\\sandesh\\anaconda3\\lib\\site-packages (from aiohttp->gradio) (6.0.2)\n",
      "Requirement already satisfied: aiosignal>=1.1.2 in c:\\users\\sandesh\\anaconda3\\lib\\site-packages (from aiohttp->gradio) (1.2.0)\n",
      "Requirement already satisfied: charset-normalizer<3.0,>=2.0 in c:\\users\\sandesh\\anaconda3\\lib\\site-packages (from aiohttp->gradio) (2.0.4)\n",
      "Requirement already satisfied: async-timeout<5.0,>=4.0.0a3 in c:\\users\\sandesh\\anaconda3\\lib\\site-packages (from aiohttp->gradio) (4.0.2)\n",
      "Requirement already satisfied: frozenlist>=1.1.1 in c:\\users\\sandesh\\anaconda3\\lib\\site-packages (from aiohttp->gradio) (1.3.1)\n",
      "Requirement already satisfied: attrs>=17.3.0 in c:\\users\\sandesh\\anaconda3\\lib\\site-packages (from aiohttp->gradio) (21.2.0)\n",
      "Requirement already satisfied: idna>=2.0 in c:\\users\\sandesh\\anaconda3\\lib\\site-packages (from yarl<2.0,>=1.0->aiohttp->gradio) (3.2)\n",
      "Requirement already satisfied: starlette==0.20.4 in c:\\users\\sandesh\\anaconda3\\lib\\site-packages (from fastapi->gradio) (0.20.4)\n",
      "Requirement already satisfied: anyio<5,>=3.4.0 in c:\\users\\sandesh\\anaconda3\\lib\\site-packages (from starlette==0.20.4->fastapi->gradio) (3.6.2)\n",
      "Requirement already satisfied: typing-extensions>=3.10.0 in c:\\users\\sandesh\\anaconda3\\lib\\site-packages (from starlette==0.20.4->fastapi->gradio) (3.10.0.2)\n",
      "Requirement already satisfied: sniffio>=1.1 in c:\\users\\sandesh\\anaconda3\\lib\\site-packages (from anyio<5,>=3.4.0->starlette==0.20.4->fastapi->gradio) (1.2.0)\n",
      "Requirement already satisfied: httpcore<0.16.0,>=0.15.0 in c:\\users\\sandesh\\anaconda3\\lib\\site-packages (from httpx->gradio) (0.15.0)\n",
      "Requirement already satisfied: rfc3986[idna2008]<2,>=1.3 in c:\\users\\sandesh\\anaconda3\\lib\\site-packages (from httpx->gradio) (1.5.0)\n",
      "Requirement already satisfied: certifi in c:\\users\\sandesh\\anaconda3\\lib\\site-packages (from httpx->gradio) (2021.10.8)\n",
      "Requirement already satisfied: MarkupSafe>=2.0 in c:\\users\\sandesh\\appdata\\roaming\\python\\python39\\site-packages (from jinja2->gradio) (2.1.1)\n",
      "Requirement already satisfied: mdurl~=0.1 in c:\\users\\sandesh\\anaconda3\\lib\\site-packages (from markdown-it-py[linkify,plugins]->gradio) (0.1.2)\n",
      "Requirement already satisfied: mdit-py-plugins in c:\\users\\sandesh\\anaconda3\\lib\\site-packages (from markdown-it-py[linkify,plugins]->gradio) (0.3.1)\n",
      "Requirement already satisfied: linkify-it-py~=1.0 in c:\\users\\sandesh\\anaconda3\\lib\\site-packages (from markdown-it-py[linkify,plugins]->gradio) (1.0.3)\n",
      "Requirement already satisfied: uc-micro-py in c:\\users\\sandesh\\anaconda3\\lib\\site-packages (from linkify-it-py~=1.0->markdown-it-py[linkify,plugins]->gradio) (1.0.1)\n",
      "Requirement already satisfied: python-dateutil>=2.7 in c:\\users\\sandesh\\anaconda3\\lib\\site-packages (from matplotlib->gradio) (2.8.2)\n",
      "Requirement already satisfied: cycler>=0.10 in c:\\users\\sandesh\\anaconda3\\lib\\site-packages (from matplotlib->gradio) (0.10.0)\n",
      "Requirement already satisfied: pyparsing>=2.2.1 in c:\\users\\sandesh\\anaconda3\\lib\\site-packages (from matplotlib->gradio) (3.0.4)\n",
      "Requirement already satisfied: kiwisolver>=1.0.1 in c:\\users\\sandesh\\anaconda3\\lib\\site-packages (from matplotlib->gradio) (1.3.1)\n",
      "Requirement already satisfied: six in c:\\users\\sandesh\\anaconda3\\lib\\site-packages (from cycler>=0.10->matplotlib->gradio) (1.16.0)\n",
      "Requirement already satisfied: pytz>=2017.3 in c:\\users\\sandesh\\anaconda3\\lib\\site-packages (from pandas->gradio) (2021.3)\n",
      "Requirement already satisfied: cryptography>=2.5 in c:\\users\\sandesh\\anaconda3\\lib\\site-packages (from paramiko->gradio) (3.4.8)\n",
      "Requirement already satisfied: bcrypt>=3.1.3 in c:\\users\\sandesh\\anaconda3\\lib\\site-packages (from paramiko->gradio) (3.2.0)\n",
      "Requirement already satisfied: pynacl>=1.0.1 in c:\\users\\sandesh\\anaconda3\\lib\\site-packages (from paramiko->gradio) (1.4.0)\n",
      "Requirement already satisfied: cffi>=1.1 in c:\\users\\sandesh\\anaconda3\\lib\\site-packages (from bcrypt>=3.1.3->paramiko->gradio) (1.14.6)\n",
      "Requirement already satisfied: pycparser in c:\\users\\sandesh\\anaconda3\\lib\\site-packages (from cffi>=1.1->bcrypt>=3.1.3->paramiko->gradio) (2.20)\n",
      "Requirement already satisfied: urllib3<1.27,>=1.21.1 in c:\\users\\sandesh\\anaconda3\\lib\\site-packages (from requests->gradio) (1.26.7)\n",
      "Requirement already satisfied: click>=7.0 in c:\\users\\sandesh\\anaconda3\\lib\\site-packages (from uvicorn->gradio) (8.0.3)\n",
      "Requirement already satisfied: colorama in c:\\users\\sandesh\\anaconda3\\lib\\site-packages (from click>=7.0->uvicorn->gradio) (0.4.4)\n"
     ]
    },
    {
     "name": "stderr",
     "output_type": "stream",
     "text": [
      "WARNING: Ignoring invalid distribution -umpy (c:\\users\\sandesh\\anaconda3\\lib\\site-packages)\n",
      "WARNING: Ignoring invalid distribution -umpy (c:\\users\\sandesh\\anaconda3\\lib\\site-packages)\n",
      "WARNING: Ignoring invalid distribution -umpy (c:\\users\\sandesh\\anaconda3\\lib\\site-packages)\n",
      "WARNING: Ignoring invalid distribution -umpy (c:\\users\\sandesh\\anaconda3\\lib\\site-packages)\n",
      "WARNING: Ignoring invalid distribution -umpy (c:\\users\\sandesh\\anaconda3\\lib\\site-packages)\n",
      "WARNING: Ignoring invalid distribution -umpy (c:\\users\\sandesh\\anaconda3\\lib\\site-packages)\n"
     ]
    }
   ],
   "source": [
    "!pip install gradio"
   ]
  },
  {
   "cell_type": "code",
   "execution_count": 2,
   "id": "f3f83569",
   "metadata": {},
   "outputs": [
    {
     "name": "stdout",
     "output_type": "stream",
     "text": [
      "2.10.0\n"
     ]
    }
   ],
   "source": [
    "import tensorflow as tf\n",
    "print(tf.__version__)"
   ]
  },
  {
   "cell_type": "code",
   "execution_count": 3,
   "id": "961a6510",
   "metadata": {},
   "outputs": [
    {
     "name": "stdout",
     "output_type": "stream",
     "text": [
      "Downloading data from https://storage.googleapis.com/tensorflow/keras-applications/mobilenet_v2/mobilenet_v2_weights_tf_dim_ordering_tf_kernels_1.0_224.h5\n",
      "14536120/14536120 [==============================] - 3s 0us/step\n",
      "Downloading data from https://storage.googleapis.com/tensorflow/keras-applications/inception_v3/inception_v3_weights_tf_dim_ordering_tf_kernels.h5\n",
      "96112376/96112376 [==============================] - 33s 0us/step\n"
     ]
    }
   ],
   "source": [
    "import gradio as gr\n",
    "import tensorflow as tf\n",
    "import numpy as np\n",
    "from PIL import Image\n",
    "import requests\n",
    "\n",
    "\n",
    "# Download human-readable labels for ImageNet.\n",
    "response = requests.get(\"https://git.io/JJkYN\")\n",
    "labels = response.text.split(\"\\n\")\n",
    "\n",
    "mobile_net = tf.keras.applications.MobileNetV2()\n",
    "inception_net = tf.keras.applications.InceptionV3()\n",
    "\n"
   ]
  },
  {
   "cell_type": "code",
   "execution_count": 4,
   "id": "44d83e7d",
   "metadata": {},
   "outputs": [],
   "source": [
    "def classify_image_with_mobile_net(im):\n",
    "    im = Image.fromarray(im.astype('uint8'), 'RGB')\n",
    "    im = im.resize((224, 224))\n",
    "    arr = np.array(im).reshape((-1, 224, 224, 3))\n",
    "    arr = tf.keras.applications.mobilenet.preprocess_input(arr)\n",
    "    prediction = mobile_net.predict(arr).flatten()\n",
    "    return {labels[i]: float(prediction[i]) for i in range(1000)}\n",
    "    "
   ]
  },
  {
   "cell_type": "code",
   "execution_count": 5,
   "id": "5e77912e",
   "metadata": {},
   "outputs": [],
   "source": [
    "def classify_image_with_inception_net(im):\n",
    "    # Resize the image to\n",
    "    im = Image.fromarray(im.astype('uint8'), 'RGB')\n",
    "    im = im.resize((299, 299))\n",
    "    arr = np.array(im).reshape((-1, 299, 299, 3))\n",
    "    arr = tf.keras.applications.inception_v3.preprocess_input(arr)\n",
    "    prediction = inception_net.predict(arr).flatten()\n",
    "    return {labels[i]: float(prediction[i]) for i in range(1000)}"
   ]
  },
  {
   "cell_type": "code",
   "execution_count": 6,
   "id": "f6a9e5fe",
   "metadata": {},
   "outputs": [
    {
     "name": "stderr",
     "output_type": "stream",
     "text": [
      "C:\\Users\\Sandesh\\Anaconda3\\lib\\site-packages\\gradio\\inputs.py:256: UserWarning: Usage of gradio.inputs is deprecated, and will not be supported in the future, please import your component from gradio.components\n",
      "  warnings.warn(\n",
      "C:\\Users\\Sandesh\\Anaconda3\\lib\\site-packages\\gradio\\deprecation.py:40: UserWarning: `optional` parameter is deprecated, and it has no effect\n",
      "  warnings.warn(value)\n",
      "C:\\Users\\Sandesh\\Anaconda3\\lib\\site-packages\\gradio\\outputs.py:196: UserWarning: Usage of gradio.outputs is deprecated, and will not be supported in the future, please import your components from gradio.components\n",
      "  warnings.warn(\n",
      "C:\\Users\\Sandesh\\Anaconda3\\lib\\site-packages\\gradio\\deprecation.py:40: UserWarning: The 'type' parameter has been deprecated. Use the Number component instead.\n",
      "  warnings.warn(value)\n"
     ]
    }
   ],
   "source": [
    "imagein = gr.inputs.Image()\n",
    "label = gr.outputs.Label(num_top_classes=3)\n",
    "sample_images = [\n",
    "                 [\"monkey.jpg\"],\n",
    "                 [\"sailboat.jpg\"],\n",
    "                 [\"bicycle.jpg\"],\n",
    "                 [\"download.jpg\"],\n",
    "                 [\"fox.jpg\"]\n",
    "]"
   ]
  },
  {
   "cell_type": "code",
   "execution_count": 14,
   "id": "61c325d0",
   "metadata": {},
   "outputs": [
    {
     "ename": "DeprecationWarning",
     "evalue": "The `fn` parameter only accepts a single function, support for a list of functions has been deprecated. Please use gradio.mix.Parallel instead.",
     "output_type": "error",
     "traceback": [
      "\u001b[1;31m---------------------------------------------------------------------------\u001b[0m",
      "\u001b[1;31mDeprecationWarning\u001b[0m                        Traceback (most recent call last)",
      "\u001b[1;32m~\\AppData\\Local\\Temp/ipykernel_27404/1441811980.py\u001b[0m in \u001b[0;36m<module>\u001b[1;34m\u001b[0m\n\u001b[1;32m----> 1\u001b[1;33m gr.Interface(\n\u001b[0m\u001b[0;32m      2\u001b[0m     \u001b[1;33m[\u001b[0m\u001b[0mclassify_image_with_mobile_net\u001b[0m\u001b[1;33m,\u001b[0m \u001b[0mclassify_image_with_inception_net\u001b[0m\u001b[1;33m]\u001b[0m\u001b[1;33m,\u001b[0m\u001b[1;33m\u001b[0m\u001b[1;33m\u001b[0m\u001b[0m\n\u001b[0;32m      3\u001b[0m     \u001b[0mimagein\u001b[0m\u001b[1;33m,\u001b[0m\u001b[1;33m\u001b[0m\u001b[1;33m\u001b[0m\u001b[0m\n\u001b[0;32m      4\u001b[0m     \u001b[0mlabel\u001b[0m\u001b[1;33m,\u001b[0m\u001b[1;33m\u001b[0m\u001b[1;33m\u001b[0m\u001b[0m\n\u001b[0;32m      5\u001b[0m     \u001b[0mtitle\u001b[0m\u001b[1;33m=\u001b[0m\u001b[1;34m\"MobileNet vs. InceptionNet\"\u001b[0m\u001b[1;33m,\u001b[0m\u001b[1;33m\u001b[0m\u001b[1;33m\u001b[0m\u001b[0m\n",
      "\u001b[1;32m~\\Anaconda3\\lib\\site-packages\\gradio\\interface.py\u001b[0m in \u001b[0;36m__init__\u001b[1;34m(self, fn, inputs, outputs, examples, cache_examples, examples_per_page, live, interpretation, num_shap, title, description, article, thumbnail, theme, css, allow_flagging, flagging_options, flagging_dir, flagging_callback, analytics_enabled, batch, max_batch_size, _api_mode, **kwargs)\u001b[0m\n\u001b[0;32m    200\u001b[0m \u001b[1;33m\u001b[0m\u001b[0m\n\u001b[0;32m    201\u001b[0m         \u001b[1;32mif\u001b[0m \u001b[0misinstance\u001b[0m\u001b[1;33m(\u001b[0m\u001b[0mfn\u001b[0m\u001b[1;33m,\u001b[0m \u001b[0mlist\u001b[0m\u001b[1;33m)\u001b[0m\u001b[1;33m:\u001b[0m\u001b[1;33m\u001b[0m\u001b[1;33m\u001b[0m\u001b[0m\n\u001b[1;32m--> 202\u001b[1;33m             raise DeprecationWarning(\n\u001b[0m\u001b[0;32m    203\u001b[0m                 \u001b[1;34m\"The `fn` parameter only accepts a single function, support for a list \"\u001b[0m\u001b[1;33m\u001b[0m\u001b[1;33m\u001b[0m\u001b[0m\n\u001b[0;32m    204\u001b[0m                 \u001b[1;34m\"of functions has been deprecated. Please use gradio.mix.Parallel \"\u001b[0m\u001b[1;33m\u001b[0m\u001b[1;33m\u001b[0m\u001b[0m\n",
      "\u001b[1;31mDeprecationWarning\u001b[0m: The `fn` parameter only accepts a single function, support for a list of functions has been deprecated. Please use gradio.mix.Parallel instead."
     ]
    }
   ],
   "source": [
    "gr.Interface(\n",
    "    [classify_image_with_mobile_net, classify_image_with_inception_net],\n",
    "    imagein,\n",
    "    label,\n",
    "    title=\"MobileNet vs. InceptionNet\",\n",
    "    description=\"\"\"Let's compare 2 state-of-the-art machine learning models that classify images into one of 1,000 categories: MobileNet (top),\n",
    "          a lightweight model that has an accuracy of 0.704, vs. InceptionNet\n",
    "          (bottom), a much heavier model that has an accuracy of 0.779.\"\"\",\n",
    "    examples=sample_images).launch();"
   ]
  },
  {
   "cell_type": "code",
   "execution_count": null,
   "id": "3dbc1cab",
   "metadata": {},
   "outputs": [],
   "source": []
  }
 ],
 "metadata": {
  "kernelspec": {
   "display_name": "Python 3 (ipykernel)",
   "language": "python",
   "name": "python3"
  },
  "language_info": {
   "codemirror_mode": {
    "name": "ipython",
    "version": 3
   },
   "file_extension": ".py",
   "mimetype": "text/x-python",
   "name": "python",
   "nbconvert_exporter": "python",
   "pygments_lexer": "ipython3",
   "version": "3.9.7"
  }
 },
 "nbformat": 4,
 "nbformat_minor": 5
}
